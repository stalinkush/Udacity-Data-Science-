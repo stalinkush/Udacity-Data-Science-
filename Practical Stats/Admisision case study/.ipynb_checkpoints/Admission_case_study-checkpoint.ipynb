{
 "cells": [
  {
   "cell_type": "code",
   "execution_count": 1,
   "metadata": {},
   "outputs": [],
   "source": [
    "import pandas as pd\n",
    "import numpy as np"
   ]
  },
  {
   "cell_type": "code",
   "execution_count": 5,
   "metadata": {},
   "outputs": [
    {
     "data": {
      "text/html": [
       "<div>\n",
       "<style scoped>\n",
       "    .dataframe tbody tr th:only-of-type {\n",
       "        vertical-align: middle;\n",
       "    }\n",
       "\n",
       "    .dataframe tbody tr th {\n",
       "        vertical-align: top;\n",
       "    }\n",
       "\n",
       "    .dataframe thead th {\n",
       "        text-align: right;\n",
       "    }\n",
       "</style>\n",
       "<table border=\"1\" class=\"dataframe\">\n",
       "  <thead>\n",
       "    <tr style=\"text-align: right;\">\n",
       "      <th></th>\n",
       "      <th>student_id</th>\n",
       "      <th>gender</th>\n",
       "      <th>major</th>\n",
       "      <th>admitted</th>\n",
       "    </tr>\n",
       "  </thead>\n",
       "  <tbody>\n",
       "    <tr>\n",
       "      <th>0</th>\n",
       "      <td>35377</td>\n",
       "      <td>female</td>\n",
       "      <td>Chemistry</td>\n",
       "      <td>False</td>\n",
       "    </tr>\n",
       "    <tr>\n",
       "      <th>1</th>\n",
       "      <td>56105</td>\n",
       "      <td>male</td>\n",
       "      <td>Physics</td>\n",
       "      <td>True</td>\n",
       "    </tr>\n",
       "    <tr>\n",
       "      <th>2</th>\n",
       "      <td>31441</td>\n",
       "      <td>female</td>\n",
       "      <td>Chemistry</td>\n",
       "      <td>False</td>\n",
       "    </tr>\n",
       "    <tr>\n",
       "      <th>3</th>\n",
       "      <td>51765</td>\n",
       "      <td>male</td>\n",
       "      <td>Physics</td>\n",
       "      <td>True</td>\n",
       "    </tr>\n",
       "    <tr>\n",
       "      <th>4</th>\n",
       "      <td>53714</td>\n",
       "      <td>female</td>\n",
       "      <td>Physics</td>\n",
       "      <td>True</td>\n",
       "    </tr>\n",
       "  </tbody>\n",
       "</table>\n",
       "</div>"
      ],
      "text/plain": [
       "   student_id  gender      major  admitted\n",
       "0       35377  female  Chemistry     False\n",
       "1       56105    male    Physics      True\n",
       "2       31441  female  Chemistry     False\n",
       "3       51765    male    Physics      True\n",
       "4       53714  female    Physics      True"
      ]
     },
     "execution_count": 5,
     "metadata": {},
     "output_type": "execute_result"
    }
   ],
   "source": [
    "df = pd.read_csv('admission_data.csv')\n",
    "df.head()"
   ]
  },
  {
   "cell_type": "code",
   "execution_count": 13,
   "metadata": {},
   "outputs": [
    {
     "data": {
      "text/plain": [
       "female    0.514\n",
       "male      0.486\n",
       "Name: gender, dtype: float64"
      ]
     },
     "execution_count": 13,
     "metadata": {},
     "output_type": "execute_result"
    }
   ],
   "source": [
    "df.gender.value_counts().div(257+243)"
   ]
  },
  {
   "cell_type": "code",
   "execution_count": 22,
   "metadata": {},
   "outputs": [
    {
     "data": {
      "text/plain": [
       "500"
      ]
     },
     "execution_count": 22,
     "metadata": {},
     "output_type": "execute_result"
    }
   ],
   "source": [
    "female_count = df.query('gender == \"female\"')['gender'].count()\n",
    "male_count = df.query('gender == \"male\"')['gender'].count()\n",
    "total_count = female_count + male_count\n",
    "total_count "
   ]
  },
  {
   "cell_type": "code",
   "execution_count": 27,
   "metadata": {},
   "outputs": [
    {
     "name": "stdout",
     "output_type": "stream",
     "text": [
      "0.48559670781893005 0.28793774319066145\n"
     ]
    }
   ],
   "source": [
    "female_ad = df.query('gender == \"female\" and admitted == True')['admitted'].count() \n",
    "male_ad = df.query('gender == \"male\" and admitted == True')['admitted'].count()\n",
    "\n",
    "female_ad_ratio = female_ad / female_count\n",
    "male_ad_ratio = male_ad / male_count\n",
    "print(male_ad_ratio, female_ad_ratio)"
   ]
  },
  {
   "cell_type": "code",
   "execution_count": 30,
   "metadata": {},
   "outputs": [
    {
     "name": "stdout",
     "output_type": "stream",
     "text": [
      "0.6145833333333334 0.3854166666666667\n"
     ]
    }
   ],
   "source": [
    "total_admitted = df.query('admitted == True')['admitted'].count()\n",
    "\n",
    "ad_male = male_ad / total_admitted\n",
    "ad_female = female_ad / total_admitted\n",
    "print(ad_male, ad_female)"
   ]
  },
  {
   "cell_type": "code",
   "execution_count": 35,
   "metadata": {},
   "outputs": [
    {
     "name": "stdout",
     "output_type": "stream",
     "text": [
      "0.9259259259259259 0.12062256809338522\n"
     ]
    }
   ],
   "source": [
    "female_phy = df.query('gender == \"female\" and major == \"Physics\"')['major'].count()\n",
    "male_phy = df.query('gender == \"male\" and major == \"Physics\"')['major'].count()\n",
    "\n",
    "print(male_phy / male_count, female_phy / female_count)"
   ]
  },
  {
   "cell_type": "code",
   "execution_count": 43,
   "metadata": {},
   "outputs": [
    {
     "name": "stdout",
     "output_type": "stream",
     "text": [
      "0.5155555555555555 0.7419354838709677\n"
     ]
    }
   ],
   "source": [
    "female_phy_ad = df.query('gender == \"female\" and major == \"Physics\" and admitted == True')['admitted'].count()\n",
    "male_phy_ad = df.query('gender == \"male\" and major == \"Physics\" and admitted == True')['admitted'].count() \n",
    "\n",
    "print(male_phy_ad / male_phy, female_phy_ad / female_phy)\n"
   ]
  },
  {
   "cell_type": "code",
   "execution_count": 63,
   "metadata": {},
   "outputs": [
    {
     "name": "stdout",
     "output_type": "stream",
     "text": [
      "0.07407407407407407 0.8793774319066148\n",
      "0.1111111111111111 0.22566371681415928\n"
     ]
    }
   ],
   "source": [
    "female_chy = df.query('gender == \"female\" and major == \"Chemistry\"')['major'].count()\n",
    "male_chy = df.query('gender == \"male\" and major == \"Chemistry\"')['major'].count() \n",
    "\n",
    "female_chy_ad = df.query('gender == \"female\" and major == \"Chemistry\" and admitted == True')['major'].count()\n",
    "male_chy_ad = df.query('gender == \"male\" and major == \"Chemistry\" and admitted == True')['major'].count()\n",
    "\n",
    "print(male_chy / male_count, female_chy / female_count)\n",
    "print(male_chy_ad / male_chy, female_chy_ad / female_chy)"
   ]
  },
  {
   "cell_type": "code",
   "execution_count": 65,
   "metadata": {},
   "outputs": [
    {
     "name": "stdout",
     "output_type": "stream",
     "text": [
      "0.54296875 0.21721311475409835\n"
     ]
    }
   ],
   "source": [
    "phy = df.query('major == \"Physics\"')['major'].count()\n",
    "phy_ad = df.query('major == \"Physics\" and admitted == True')['admitted'].count()\n",
    "\n",
    "chem = df.query('major == \"Chemistry\"')['major'].count()\n",
    "chem_ad = df.query('major == \"Chemistry\" and admitted == True')['admitted'].count()\n",
    "\n",
    "print(phy_ad / phy, chem_ad / chem)"
   ]
  },
  {
   "cell_type": "code",
   "execution_count": null,
   "metadata": {},
   "outputs": [],
   "source": []
  }
 ],
 "metadata": {
  "kernelspec": {
   "display_name": "Python 3",
   "language": "python",
   "name": "python3"
  },
  "language_info": {
   "codemirror_mode": {
    "name": "ipython",
    "version": 3
   },
   "file_extension": ".py",
   "mimetype": "text/x-python",
   "name": "python",
   "nbconvert_exporter": "python",
   "pygments_lexer": "ipython3",
   "version": "3.6.4"
  }
 },
 "nbformat": 4,
 "nbformat_minor": 2
}
