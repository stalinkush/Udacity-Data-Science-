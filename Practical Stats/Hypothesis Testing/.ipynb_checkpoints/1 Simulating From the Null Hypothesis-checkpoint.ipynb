{
 "cells": [
  {
   "cell_type": "markdown",
   "metadata": {},
   "source": [
    "### Simulating From the Null Hypothesis\n",
    "\n",
    "Load in the data below, and follow the questions to assist with answering the quiz questions below."
   ]
  },
  {
   "cell_type": "code",
   "execution_count": null,
   "metadata": {},
   "outputs": [
    {
     "data": {
      "text/html": [
       "<div>\n",
       "<style scoped>\n",
       "    .dataframe tbody tr th:only-of-type {\n",
       "        vertical-align: middle;\n",
       "    }\n",
       "\n",
       "    .dataframe tbody tr th {\n",
       "        vertical-align: top;\n",
       "    }\n",
       "\n",
       "    .dataframe thead th {\n",
       "        text-align: right;\n",
       "    }\n",
       "</style>\n",
       "<table border=\"1\" class=\"dataframe\">\n",
       "  <thead>\n",
       "    <tr style=\"text-align: right;\">\n",
       "      <th></th>\n",
       "      <th>user_id</th>\n",
       "      <th>age</th>\n",
       "      <th>drinks_coffee</th>\n",
       "      <th>height</th>\n",
       "    </tr>\n",
       "  </thead>\n",
       "  <tbody>\n",
       "    <tr>\n",
       "      <th>2402</th>\n",
       "      <td>2874</td>\n",
       "      <td>&lt;21</td>\n",
       "      <td>True</td>\n",
       "      <td>64.357154</td>\n",
       "    </tr>\n",
       "    <tr>\n",
       "      <th>2864</th>\n",
       "      <td>3670</td>\n",
       "      <td>&gt;=21</td>\n",
       "      <td>True</td>\n",
       "      <td>66.859636</td>\n",
       "    </tr>\n",
       "    <tr>\n",
       "      <th>2167</th>\n",
       "      <td>7441</td>\n",
       "      <td>&lt;21</td>\n",
       "      <td>False</td>\n",
       "      <td>66.659561</td>\n",
       "    </tr>\n",
       "    <tr>\n",
       "      <th>507</th>\n",
       "      <td>2781</td>\n",
       "      <td>&gt;=21</td>\n",
       "      <td>True</td>\n",
       "      <td>70.166241</td>\n",
       "    </tr>\n",
       "    <tr>\n",
       "      <th>1817</th>\n",
       "      <td>2875</td>\n",
       "      <td>&gt;=21</td>\n",
       "      <td>True</td>\n",
       "      <td>71.369120</td>\n",
       "    </tr>\n",
       "  </tbody>\n",
       "</table>\n",
       "</div>"
      ],
      "text/plain": [
       "      user_id   age  drinks_coffee     height\n",
       "2402     2874   <21           True  64.357154\n",
       "2864     3670  >=21           True  66.859636\n",
       "2167     7441   <21          False  66.659561\n",
       "507      2781  >=21           True  70.166241\n",
       "1817     2875  >=21           True  71.369120"
      ]
     },
     "execution_count": 1,
     "metadata": {},
     "output_type": "execute_result"
    }
   ],
   "source": [
    "import pandas as pd\n",
    "import numpy as np\n",
    "import matplotlib.pyplot as plt\n",
    "import seaborn as sns\n",
    "\n",
    "%matplotlib inline\n",
    "np.random.seed(42)\n",
    "sns.set()\n",
    "\n",
    "full_data = pd.read_csv('coffee_dataset.csv')\n",
    "sample_data = full_data.sample(200)\n",
    "sample_data.head()"
   ]
  },
  {
   "cell_type": "markdown",
   "metadata": {},
   "source": [
    "`1.` If you were interested in if the average height for coffee drinkers is the same as for non-coffee drinkers, what would the null and alternative be?  Place them in the cell below, and use your answer to answer the first quiz question below."
   ]
  },
  {
   "cell_type": "markdown",
   "metadata": {},
   "source": [
    "**Since there is no directional component associated with this statement, a not equal to seems most reasonable.**\n",
    "\n",
    "$$H_0: \\mu_{coff} - \\mu_{no} = 0$$\n",
    "\n",
    "\n",
    "$$H_0: \\mu_{coff} - \\mu_{no} \\neq 0$$\n",
    "\n",
    "\n",
    "**$\\mu_{coff}$ and $\\mu_{no}$ are the population mean values for coffee drinkers and non-coffee drinkers, respectivley.**"
   ]
  },
  {
   "cell_type": "markdown",
   "metadata": {},
   "source": [
    "`2.` If you were interested in if the average height for coffee drinkers is less than non-coffee drinkers, what would the null and alternative be?  Place them in the cell below, and use your answer to answer the second quiz question below."
   ]
  },
  {
   "cell_type": "markdown",
   "metadata": {},
   "source": [
    "**In this case, there is a question associated with a direction - that is the average height for coffee drinkers is less than non-coffee drinkers.  Below is one of the ways you could write the null and alternative.  Since the mean for coffee drinkers is listed first here, the alternative would suggest that this is negative.**\n",
    "\n",
    "$$H_0: \\mu_{coff} - \\mu_{no} \\geq 0$$\n",
    "\n",
    "\n",
    "$$H_0: \\mu_{coff} - \\mu_{no} < 0$$\n",
    "\n",
    "\n",
    "**$\\mu_{coff}$ and $\\mu_{no}$ are the population mean values for coffee drinkers and non-coffee drinkers, respectivley.**"
   ]
  },
  {
   "cell_type": "markdown",
   "metadata": {},
   "source": [
    "`3.` For 10,000 iterations: bootstrap the sample data, calculate the mean height for coffee drinkers and non-coffee drinkers, and calculate the difference in means for each sample.  You will want to have three arrays at the end of the iterations - one for each mean and one for the difference in means.  Use the results of your sampling distribution, to answer the third quiz question below."
   ]
  },
  {
   "cell_type": "code",
   "execution_count": null,
   "metadata": {},
   "outputs": [],
   "source": [
    "coff, no_coff, diff = [], [], []\n",
    "for i in range(10000):\n",
    "    sample = sample_data.sample(200, replace=True)\n",
    "    coff_h = sample[sample['drinks_coffee'] == True]['height'].mean()\n",
    "    no_coff_h = sample[sample['drinks_coffee'] == False]['height'].mean()\n",
    "    \n",
    "    coff.append(coff_h)\n",
    "    no_coff.append(no_coff_h)\n",
    "    diff.append(coff_h - no_coff_h)\n"
   ]
  },
  {
   "cell_type": "code",
   "execution_count": null,
   "metadata": {},
   "outputs": [],
   "source": [
    "print(' The Std of heights of Coffee Drinkers: {} \\n The Std of heights of Non Coffee Drinkers: {}\\\n",
    "\\n The Std of heights of Differences: {}'.format(np.std(coff), np.std(no_coff), np.std(diff)))"
   ]
  },
  {
   "cell_type": "code",
   "execution_count": null,
   "metadata": {},
   "outputs": [],
   "source": [
    "plt.subplots(1,2, figsize=(20, 15))\n",
    "plt.subplot(1, 2, 1)\n",
    "plt.hist(coff)\n",
    "plt.xlabel('Mean Heights', fontsize=15)\n",
    "plt.title('Mean Heights of Coffee Drinkers', fontsize=20)\n",
    "plt.axvline(np.mean(coff), linestyle='--', linewidth=2, label='Mean = {}'.format(np.mean(coff).round(4)), color='k')\n",
    "ci = np.percentile(coff, [2.5, 97.5])\n",
    "plt.axvline(ci[0], linestyle='--', linewidth=2, label='CI Lower = {}'.format(ci[0].round(3)), color='r')\n",
    "plt.axvline(ci[1], linestyle='--', linewidth=2, label='CI Higher = {}'.format(ci[1].round(3)), color='r')\n",
    "plt.legend(loc='upper left', frameon=True, fontsize=15, facecolor='g', framealpha=0.5)\n",
    "\n",
    "plt.subplot(1, 2, 2)\n",
    "plt.hist(no_coff)\n",
    "plt.xlabel('Mean Heights', fontsize=15)\n",
    "plt.title('Mean Heights of Non Coffee Drinkers', fontsize=20)\n",
    "plt.axvline(np.mean(no_coff), linestyle='--', linewidth=2, label='Mean = {}'.format(np.mean(no_coff).round(4)), color='k')\n",
    "ci = np.percentile(no_coff, [2.5, 97.5])\n",
    "plt.axvline(ci[0], linestyle='--', linewidth=2, label='CI Lower = {}'.format(ci[0].round(3)), color='r')\n",
    "plt.axvline(ci[1], linestyle='--', linewidth=2, label='CI Higher = {}'.format(ci[1].round(3)), color='r')\n",
    "plt.legend(loc='upper left', frameon=True, fontsize=15, facecolor='g', framealpha=1)\n",
    "plt.tight_layout()"
   ]
  },
  {
   "cell_type": "code",
   "execution_count": null,
   "metadata": {},
   "outputs": [],
   "source": [
    "plt.figure(figsize=(10, 8))\n",
    "plt.hist(diff)\n",
    "plt.xlabel('Mean Heights', fontsize=15)\n",
    "plt.title('Differences of height between Coffee Drinkers and Non Drinkers', fontsize=15)\n",
    "plt.axvline(np.mean(diff), linestyle='--', linewidth=2, label='Mean = {}'.format(np.mean(diff).round(4)), color='k')\n",
    "ci = np.percentile(diff, [2.5, 97.5])\n",
    "plt.axvline(ci[0], linestyle='--', linewidth=2, label='CI Lower = {}'.format(ci[0].round(3)), color='r')\n",
    "plt.axvline(ci[1], linestyle='--', linewidth=2, label='CI Higher = {}'.format(ci[1].round(3)), color='r')\n",
    "plt.legend(loc='upper right', frameon=True, fontsize=15, facecolor='g', framealpha=0.5);"
   ]
  },
  {
   "cell_type": "code",
   "execution_count": null,
   "metadata": {},
   "outputs": [],
   "source": []
  },
  {
   "cell_type": "code",
   "execution_count": null,
   "metadata": {},
   "outputs": [],
   "source": []
  },
  {
   "cell_type": "markdown",
   "metadata": {},
   "source": [
    "`4.` Now, use your sampling distribution for the difference in means and [the docs](https://docs.scipy.org/doc/numpy-1.13.0/reference/generated/numpy.random.normal.html) to simulate what you would expect if your sampling distribution were centered on zero.  Also, calculate the observed sample mean difference in `sample_data`. Use your solutions to answer the last questions in the quiz below."
   ]
  },
  {
   "cell_type": "markdown",
   "metadata": {},
   "source": [
    "** We would expect the sampling distribution to be normal by the Central Limit Theorem, and we know the standard deviation of the sampling distribution of the difference in means from the previous question, so we can use this to simulate draws from the sampling distribution under the null hypothesis.  If there is truly no difference, then the difference between the means should be zero.**"
   ]
  },
  {
   "cell_type": "code",
   "execution_count": null,
   "metadata": {},
   "outputs": [],
   "source": []
  },
  {
   "cell_type": "code",
   "execution_count": null,
   "metadata": {},
   "outputs": [],
   "source": []
  },
  {
   "cell_type": "code",
   "execution_count": null,
   "metadata": {},
   "outputs": [],
   "source": []
  }
 ],
 "metadata": {
  "anaconda-cloud": {},
  "kernelspec": {
   "display_name": "Python 3",
   "language": "python",
   "name": "python3"
  },
  "language_info": {
   "codemirror_mode": {
    "name": "ipython",
    "version": 3
   },
   "file_extension": ".py",
   "mimetype": "text/x-python",
   "name": "python",
   "nbconvert_exporter": "python",
   "pygments_lexer": "ipython3",
   "version": "3.6.4"
  }
 },
 "nbformat": 4,
 "nbformat_minor": 2
}
