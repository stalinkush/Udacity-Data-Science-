{
 "cells": [
  {
   "cell_type": "code",
   "execution_count": 1,
   "metadata": {},
   "outputs": [],
   "source": [
    "import numpy as np"
   ]
  },
  {
   "cell_type": "code",
   "execution_count": 23,
   "metadata": {},
   "outputs": [
    {
     "data": {
      "text/plain": [
       "0.249792"
      ]
     },
     "execution_count": 23,
     "metadata": {},
     "output_type": "execute_result"
    }
   ],
   "source": [
    "#Two fair coin flips produce exactly two heads\n",
    "\n",
    "#Stimulating taking 1 million samples\n",
    "samples = np.random.randint(2, size=(int(1e6), 2)) \n",
    "samples = samples.sum(axis=1)\n",
    "\n",
    "#probability of two heads\n",
    "(samples == 2).mean()"
   ]
  },
  {
   "cell_type": "code",
   "execution_count": 24,
   "metadata": {},
   "outputs": [
    {
     "data": {
      "text/plain": [
       "0.124709"
      ]
     },
     "execution_count": 24,
     "metadata": {},
     "output_type": "execute_result"
    }
   ],
   "source": [
    "#Three fair coin flips produce exactly one head\n",
    "\n",
    "#Stimualting taking 1 million samples\n",
    "samples_1 = np.random.randint(2, size=(int(1e6), 3))\n",
    "samples_1 = samples_1.sum(axis=1)\n",
    "\n",
    "#probability of three heads\n",
    "(samples_1 == 3).mean()"
   ]
  },
  {
   "cell_type": "code",
   "execution_count": 25,
   "metadata": {},
   "outputs": [
    {
     "data": {
      "text/plain": [
       "0.288427"
      ]
     },
     "execution_count": 25,
     "metadata": {},
     "output_type": "execute_result"
    }
   ],
   "source": [
    "#Three biased coin flips with P(H) = 0.6 produce exactly one head\n",
    "\n",
    "#Stimulating taking 1 million samples\n",
    "samples_2 = np.random.choice(2, p=[0.4, 0.6], size=(int(1e6), 3))\n",
    "samples_2 = samples_2.sum(axis=1)\n",
    "\n",
    "#probability of one heads with baised coin of p(H) = 0.6\n",
    "(samples_2 == 1).mean()"
   ]
  },
  {
   "cell_type": "code",
   "execution_count": 37,
   "metadata": {},
   "outputs": [
    {
     "data": {
      "text/plain": [
       "0.499973"
      ]
     },
     "execution_count": 37,
     "metadata": {},
     "output_type": "execute_result"
    }
   ],
   "source": [
    "#A die rolls an even number\n",
    "\n",
    "#Stimulating taking 1 million samples\n",
    "samples_3 = np.random.choice(range(1,7), size=int(1e6))\n",
    "\n",
    "#probability of die rolls with even number\n",
    "(samples % 2 == 0).mean()"
   ]
  },
  {
   "cell_type": "code",
   "execution_count": 38,
   "metadata": {},
   "outputs": [
    {
     "data": {
      "text/plain": [
       "0.166708"
      ]
     },
     "execution_count": 38,
     "metadata": {},
     "output_type": "execute_result"
    }
   ],
   "source": [
    "#Two dice roll a double\n",
    "\n",
    "#Stimulating taking 1 million samples\n",
    "first_roll = np.random.choice(range(1,7), size=int(1e6))\n",
    "second_roll = np.random.choice(range(1,7), size=int(1e6))\n",
    "\n",
    "#probability of a double \n",
    "(first_roll == second_roll).mean()"
   ]
  },
  {
   "cell_type": "code",
   "execution_count": null,
   "metadata": {},
   "outputs": [],
   "source": []
  },
  {
   "cell_type": "code",
   "execution_count": null,
   "metadata": {},
   "outputs": [],
   "source": []
  }
 ],
 "metadata": {
  "kernelspec": {
   "display_name": "Python 3",
   "language": "python",
   "name": "python3"
  },
  "language_info": {
   "codemirror_mode": {
    "name": "ipython",
    "version": 3
   },
   "file_extension": ".py",
   "mimetype": "text/x-python",
   "name": "python",
   "nbconvert_exporter": "python",
   "pygments_lexer": "ipython3",
   "version": "3.6.4"
  }
 },
 "nbformat": 4,
 "nbformat_minor": 2
}
