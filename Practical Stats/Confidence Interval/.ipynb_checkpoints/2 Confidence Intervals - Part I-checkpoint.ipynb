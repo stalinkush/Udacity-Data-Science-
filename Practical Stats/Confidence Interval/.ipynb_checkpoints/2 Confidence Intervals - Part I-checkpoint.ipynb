{
 "cells": [
  {
   "cell_type": "markdown",
   "metadata": {},
   "source": [
    "### Confidence Intervals - Part I\n",
    "\n",
    "First let's read in the necessary libraries and the dataset.  You also have the full and reduced versions of the data available.  The reduced version is an example of you would actually get in practice, as it is the sample.  While the full data is an example of everyone in your population."
   ]
  },
  {
   "cell_type": "code",
   "execution_count": 2,
   "metadata": {},
   "outputs": [
    {
     "data": {
      "text/html": [
       "<div>\n",
       "<style scoped>\n",
       "    .dataframe tbody tr th:only-of-type {\n",
       "        vertical-align: middle;\n",
       "    }\n",
       "\n",
       "    .dataframe tbody tr th {\n",
       "        vertical-align: top;\n",
       "    }\n",
       "\n",
       "    .dataframe thead th {\n",
       "        text-align: right;\n",
       "    }\n",
       "</style>\n",
       "<table border=\"1\" class=\"dataframe\">\n",
       "  <thead>\n",
       "    <tr style=\"text-align: right;\">\n",
       "      <th></th>\n",
       "      <th>user_id</th>\n",
       "      <th>age</th>\n",
       "      <th>drinks_coffee</th>\n",
       "      <th>height</th>\n",
       "    </tr>\n",
       "  </thead>\n",
       "  <tbody>\n",
       "    <tr>\n",
       "      <th>2402</th>\n",
       "      <td>2874</td>\n",
       "      <td>&lt;21</td>\n",
       "      <td>True</td>\n",
       "      <td>64.357154</td>\n",
       "    </tr>\n",
       "    <tr>\n",
       "      <th>2864</th>\n",
       "      <td>3670</td>\n",
       "      <td>&gt;=21</td>\n",
       "      <td>True</td>\n",
       "      <td>66.859636</td>\n",
       "    </tr>\n",
       "    <tr>\n",
       "      <th>2167</th>\n",
       "      <td>7441</td>\n",
       "      <td>&lt;21</td>\n",
       "      <td>False</td>\n",
       "      <td>66.659561</td>\n",
       "    </tr>\n",
       "    <tr>\n",
       "      <th>507</th>\n",
       "      <td>2781</td>\n",
       "      <td>&gt;=21</td>\n",
       "      <td>True</td>\n",
       "      <td>70.166241</td>\n",
       "    </tr>\n",
       "    <tr>\n",
       "      <th>1817</th>\n",
       "      <td>2875</td>\n",
       "      <td>&gt;=21</td>\n",
       "      <td>True</td>\n",
       "      <td>71.369120</td>\n",
       "    </tr>\n",
       "  </tbody>\n",
       "</table>\n",
       "</div>"
      ],
      "text/plain": [
       "      user_id   age  drinks_coffee     height\n",
       "2402     2874   <21           True  64.357154\n",
       "2864     3670  >=21           True  66.859636\n",
       "2167     7441   <21          False  66.659561\n",
       "507      2781  >=21           True  70.166241\n",
       "1817     2875  >=21           True  71.369120"
      ]
     },
     "execution_count": 2,
     "metadata": {},
     "output_type": "execute_result"
    }
   ],
   "source": [
    "import pandas as pd\n",
    "import numpy as np\n",
    "\n",
    "np.random.seed(42)\n",
    "\n",
    "coffee_full = pd.read_csv('coffee_dataset.csv')\n",
    "coffee_red = coffee_full.sample(200) #this is the only data you might actually get in the real world.\n",
    "coffee_red.head()"
   ]
  },
  {
   "cell_type": "code",
   "execution_count": 3,
   "metadata": {},
   "outputs": [
    {
     "data": {
      "text/plain": [
       "(2974, 4)"
      ]
     },
     "execution_count": 3,
     "metadata": {},
     "output_type": "execute_result"
    }
   ],
   "source": [
    "coffee_full.shape"
   ]
  },
  {
   "cell_type": "markdown",
   "metadata": {},
   "source": [
    "`1.` What is the proportion of coffee drinkers in the sample?  What is the proportion of individuals that don't drink coffee?"
   ]
  },
  {
   "cell_type": "code",
   "execution_count": 4,
   "metadata": {},
   "outputs": [
    {
     "name": "stdout",
     "output_type": "stream",
     "text": [
      " The Proportion of Drinkers: 0.595 \n",
      " The Proportions of Non Drinkers: 0.405\n"
     ]
    }
   ],
   "source": [
    "drink = coffee_red['drinks_coffee'].sum()\n",
    "non_drink = coffee_red.query('drinks_coffee == False')['drinks_coffee'].count()\n",
    "total = coffee_red['drinks_coffee'].count()\n",
    "\n",
    "drink_ratio = drink / total\n",
    "non_drink_ratio = non_drink / total\n",
    "print(' The Proportion of Drinkers: {} \\n The Proportions of Non Drinkers: {}'\\\n",
    "      .format(drink_ratio, non_drink_ratio))\n"
   ]
  },
  {
   "cell_type": "code",
   "execution_count": 5,
   "metadata": {},
   "outputs": [
    {
     "data": {
      "text/plain": [
       "(0.595, 119)"
      ]
     },
     "execution_count": 5,
     "metadata": {},
     "output_type": "execute_result"
    }
   ],
   "source": [
    "coffee_red['drinks_coffee'].mean(), drink"
   ]
  },
  {
   "cell_type": "markdown",
   "metadata": {},
   "source": [
    "`2.` Of the individuals who drink coffee, what is the average height? Of the individuals who do not drink coffee, what is the \n",
    "average height?"
   ]
  },
  {
   "cell_type": "code",
   "execution_count": 14,
   "metadata": {},
   "outputs": [
    {
     "name": "stdout",
     "output_type": "stream",
     "text": [
      "Average Height of Drinker: 68.1196 \n",
      " Average Height of Non Drinkers: 66.7849\n"
     ]
    }
   ],
   "source": [
    "height_drink = coffee_red[coffee_red['drinks_coffee'] == True]\n",
    "height_drink_avg = height_drink['height'].mean()\n",
    "\n",
    "height_non_drink = coffee_red[coffee_red['drinks_coffee'] == False]\n",
    "height_non_drink_avg = height_non_drink['height'].mean()\n",
    "\n",
    "print('Average Height of Drinker: {:.4f} \\n Average Height of Non Drinkers: {:.4f}'\\\n",
    "      .format(height_drink_avg, height_non_drink_avg))"
   ]
  },
  {
   "cell_type": "markdown",
   "metadata": {},
   "source": [
    "`3.` Simulate 200 \"new\" individuals from your original sample of 200.  What are the proportion of coffee drinkers in your bootstrap sample?  How about individuals that don't drink coffee?"
   ]
  },
  {
   "cell_type": "code",
   "execution_count": 7,
   "metadata": {},
   "outputs": [
    {
     "name": "stdout",
     "output_type": "stream",
     "text": [
      "The Proportion of Sample Drinker: 0.605 \n",
      " The Proportion of Sample Non Drinkers: 0.395\n"
     ]
    }
   ],
   "source": [
    "new_sample = coffee_red.sample(200, replace=True)\n",
    "\n",
    "sam_dr = new_sample['drinks_coffee'].sum()\n",
    "sam_non_dr = new_sample.query('drinks_coffee == False')['drinks_coffee'].count()\n",
    "\n",
    "print('The Proportion of Sample Drinker: {} \\n The Proportion of Sample Non Drinkers: {}'.format(sam_dr/200, sam_non_dr/200))"
   ]
  },
  {
   "cell_type": "markdown",
   "metadata": {},
   "source": [
    "`4.` Now simulate your bootstrap sample 10,000 times and take the mean height of the non-coffee drinkers in each sample. Each bootstrap sample should be from the very first sample of 200 data points. Plot the distribution, and pull the values necessary for a 95% confidence interval.  What do you notice about the sampling distribution of the mean in this example?"
   ]
  },
  {
   "cell_type": "code",
   "execution_count": 8,
   "metadata": {},
   "outputs": [],
   "source": [
    "bootstrap_samples = []\n",
    "for i in range(10000):\n",
    "    sample = coffee_red.sample(200, replace=True)\n",
    "    sample = sample[sample['drinks_coffee'] == False]['height'].mean()\n",
    "    bootstrap_samples.append(sample)"
   ]
  },
  {
   "cell_type": "code",
   "execution_count": 15,
   "metadata": {},
   "outputs": [
    {
     "data": {
      "image/png": "[encoded data removed]",
      "text/plain": [
       "<matplotlib.figure.Figure at 0x183b6eb6ac8>"
      ]
     },
     "metadata": {},
     "output_type": "display_data"
    }
   ],
   "source": [
    "import matplotlib.pyplot as plt\n",
    "import seaborn as sns\n",
    "%matplotlib inline\n",
    "sns.set()\n",
    "\n",
    "plt.figure(figsize=(10,8))\n",
    "plt.hist(bootstrap_samples, color='#5C2D50', alpha=0.5)\n",
    "plt.xlabel('Height of Non Coffee Drinkers', fontsize=15)\n",
    "plt.title('Histogram of Bootstrap Samples of Non Coffee Drinkers', fontsize=20)\n",
    "plt.axvline(np.mean(bootstrap_samples), linestyle='--', color='k', label='Mean Height = {:.4f}'\\\n",
    "            .format(np.mean(bootstrap_samples)))\n",
    "plt.legend(frameon=True, fontsize=15, framealpha=0.6, facecolor='#1499D3');"
   ]
  },
  {
   "cell_type": "code",
   "execution_count": 10,
   "metadata": {},
   "outputs": [
    {
     "name": "stdout",
     "output_type": "stream",
     "text": [
      "The Confidence Interval for Height of Non Coffee Drinkers is 65.9929132815752 ---- 67.58402738281573\n"
     ]
    }
   ],
   "source": [
    "ci = np.percentile(bootstrap_samples, [2.5, 97.5])\n",
    "print('The Confidence Interval for Height of Non Coffee Drinkers is {} ---- {}'.format(ci[0], ci[1]))"
   ]
  },
  {
   "cell_type": "markdown",
   "metadata": {},
   "source": [
    "`5.`  Did your interval capture the actual average height of non-coffee drinkers in the population?  Look at the average in the population and the two bounds provided by your 95% confidence interval, and then answer the final quiz question below."
   ]
  },
  {
   "cell_type": "code",
   "execution_count": 11,
   "metadata": {},
   "outputs": [
    {
     "name": "stdout",
     "output_type": "stream",
     "text": [
      "The Average Height of Non Coffee Drinkers in the Populatioin is 66.44340776214705\n"
     ]
    }
   ],
   "source": [
    "pop_height_nondr = coffee_full.query('drinks_coffee == False')['height'].mean()\n",
    "print('The Average Height of Non Coffee Drinkers in the Populatioin is {}'.format(pop_height_nondr))"
   ]
  },
  {
   "cell_type": "code",
   "execution_count": null,
   "metadata": {},
   "outputs": [],
   "source": []
  },
  {
   "cell_type": "code",
   "execution_count": null,
   "metadata": {},
   "outputs": [],
   "source": []
  }
 ],
 "metadata": {
  "kernelspec": {
   "display_name": "Python 3",
   "language": "python",
   "name": "python3"
  },
  "language_info": {
   "codemirror_mode": {
    "name": "ipython",
    "version": 3
   },
   "file_extension": ".py",
   "mimetype": "text/x-python",
   "name": "python",
   "nbconvert_exporter": "python",
   "pygments_lexer": "ipython3",
   "version": "3.6.4"
  }
 },
 "nbformat": 4,
 "nbformat_minor": 2
}
