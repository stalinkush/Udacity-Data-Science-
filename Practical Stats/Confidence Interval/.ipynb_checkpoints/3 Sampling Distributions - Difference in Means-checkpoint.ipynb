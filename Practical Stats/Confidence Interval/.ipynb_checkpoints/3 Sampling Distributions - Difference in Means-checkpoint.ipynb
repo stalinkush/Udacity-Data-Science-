{
 "cells": [
  {
   "cell_type": "markdown",
   "metadata": {},
   "source": [
    "### Confidence Interval - Difference In Means\n",
    "\n",
    "Here you will look through the example from the last video, but you will also go a couple of steps further into what might actually be going on with this data."
   ]
  },
  {
   "cell_type": "code",
   "execution_count": 2,
   "metadata": {},
   "outputs": [
    {
     "data": {
      "text/html": [
       "<div>\n",
       "<style scoped>\n",
       "    .dataframe tbody tr th:only-of-type {\n",
       "        vertical-align: middle;\n",
       "    }\n",
       "\n",
       "    .dataframe tbody tr th {\n",
       "        vertical-align: top;\n",
       "    }\n",
       "\n",
       "    .dataframe thead th {\n",
       "        text-align: right;\n",
       "    }\n",
       "</style>\n",
       "<table border=\"1\" class=\"dataframe\">\n",
       "  <thead>\n",
       "    <tr style=\"text-align: right;\">\n",
       "      <th></th>\n",
       "      <th>user_id</th>\n",
       "      <th>age</th>\n",
       "      <th>drinks_coffee</th>\n",
       "      <th>height</th>\n",
       "    </tr>\n",
       "  </thead>\n",
       "  <tbody>\n",
       "    <tr>\n",
       "      <th>2402</th>\n",
       "      <td>2874</td>\n",
       "      <td>&lt;21</td>\n",
       "      <td>True</td>\n",
       "      <td>64.357154</td>\n",
       "    </tr>\n",
       "    <tr>\n",
       "      <th>2864</th>\n",
       "      <td>3670</td>\n",
       "      <td>&gt;=21</td>\n",
       "      <td>True</td>\n",
       "      <td>66.859636</td>\n",
       "    </tr>\n",
       "    <tr>\n",
       "      <th>2167</th>\n",
       "      <td>7441</td>\n",
       "      <td>&lt;21</td>\n",
       "      <td>False</td>\n",
       "      <td>66.659561</td>\n",
       "    </tr>\n",
       "    <tr>\n",
       "      <th>507</th>\n",
       "      <td>2781</td>\n",
       "      <td>&gt;=21</td>\n",
       "      <td>True</td>\n",
       "      <td>70.166241</td>\n",
       "    </tr>\n",
       "    <tr>\n",
       "      <th>1817</th>\n",
       "      <td>2875</td>\n",
       "      <td>&gt;=21</td>\n",
       "      <td>True</td>\n",
       "      <td>71.369120</td>\n",
       "    </tr>\n",
       "  </tbody>\n",
       "</table>\n",
       "</div>"
      ],
      "text/plain": [
       "      user_id   age  drinks_coffee     height\n",
       "2402     2874   <21           True  64.357154\n",
       "2864     3670  >=21           True  66.859636\n",
       "2167     7441   <21          False  66.659561\n",
       "507      2781  >=21           True  70.166241\n",
       "1817     2875  >=21           True  71.369120"
      ]
     },
     "execution_count": 2,
     "metadata": {},
     "output_type": "execute_result"
    }
   ],
   "source": [
    "import pandas as pd\n",
    "import numpy as np\n",
    "import matplotlib.pyplot as plt\n",
    "import seaborn as sns\n",
    "\n",
    "%matplotlib inline\n",
    "np.random.seed(42)\n",
    "sns.set()\n",
    "\n",
    "full_data = pd.read_csv('coffee_dataset.csv')\n",
    "sample_data = full_data.sample(200)\n",
    "sample_data.head()"
   ]
  },
  {
   "cell_type": "markdown",
   "metadata": {},
   "source": [
    "`1.` For 10,000 iterations, bootstrap sample your sample data, compute the difference in the average heights for coffee and non-coffee drinkers.  Build a 99% confidence interval using your sampling distribution.  Use your interval to start answering the first quiz question below."
   ]
  },
  {
   "cell_type": "code",
   "execution_count": 3,
   "metadata": {},
   "outputs": [],
   "source": [
    "bootstrap_samples = []\n",
    "for i in range(10000):\n",
    "    sample = sample_data.sample(200, replace=True)\n",
    "    drinker = sample[sample['drinks_coffee'] == True]['height'].mean()\n",
    "    non_drinker = sample[sample['drinks_coffee'] == False]['height'].mean()\n",
    "    bootstrap_samples.append(drinker - non_drinker)\n"
   ]
  },
  {
   "cell_type": "code",
   "execution_count": 4,
   "metadata": {},
   "outputs": [
    {
     "name": "stdout",
     "output_type": "stream",
     "text": [
      "The 99% Confidence Interval is from 0.10258900080921124 ---- 2.538833370796657\n"
     ]
    },
    {
     "data": {
      "image/png": "[encoded data removed]",
      "text/plain": [
       "<matplotlib.figure.Figure at 0x208db49cf98>"
      ]
     },
     "metadata": {},
     "output_type": "display_data"
    }
   ],
   "source": [
    "plt.figure(figsize=(10, 8))\n",
    "plt.hist(bootstrap_samples)\n",
    "plt.xlabel('Difference of Height between Coffee Drinkers and Non Drinkers', fontsize=15)\n",
    "plt.title('Histogram of Difference of Means', fontsize=15)\n",
    "plt.axvline(np.mean(bootstrap_samples), linestyle='-.', label='Mean = {}'.format(np.mean(bootstrap_samples).round(4)), color='k')\n",
    "plt.legend(loc='upper left', fontsize=15, frameon=True, facecolor='g', framealpha = 0.4)\n",
    "\n",
    "ci = np.percentile(bootstrap_samples, [0.5, 99.5])\n",
    "print('The 99% Confidence Interval is from {} ---- {}'.format(ci[0], ci[1])) "
   ]
  },
  {
   "cell_type": "markdown",
   "metadata": {},
   "source": [
    "`2.` For 10,000 iterations, bootstrap sample your sample data, compute the difference in the average heights for those older than 21 and those younger than 21.  Build a 99% confidence interval using your sampling distribution.  Use your interval to finish answering the first quiz question below.  "
   ]
  },
  {
   "cell_type": "code",
   "execution_count": 5,
   "metadata": {},
   "outputs": [],
   "source": [
    "bootstrap_samples_2 = []\n",
    "for i in range(10000):\n",
    "    sample = sample_data.sample(200, replace=True)\n",
    "    ab = sample[sample['age'] == '>=21']['height'].mean()\n",
    "    below = sample[sample['age'] == '<21']['height'].mean()\n",
    "    bootstrap_samples_2.append(ab - below)\n"
   ]
  },
  {
   "cell_type": "code",
   "execution_count": 6,
   "metadata": {},
   "outputs": [
    {
     "name": "stdout",
     "output_type": "stream",
     "text": [
      "The 99% Confidence Interval is from 3.435721227873877 ---- 5.013052059555504\n"
     ]
    },
    {
     "data": {
      "image/png": "[encoded data removed]",
      "text/plain": [
       "<matplotlib.figure.Figure at 0x208db862dd8>"
      ]
     },
     "metadata": {},
     "output_type": "display_data"
    }
   ],
   "source": [
    "plt.figure(figsize=(10, 8))\n",
    "plt.hist(bootstrap_samples_2)\n",
    "plt.xlabel('Difference of Height between People over 21 and below 21', fontsize=15)\n",
    "plt.title('Histogram of Difference of Means', fontsize=15)\n",
    "plt.axvline(np.mean(bootstrap_samples_2), linestyle='-.', label='Mean = {}'.format(np.mean(bootstrap_samples_2).round(4))\\\n",
    "            ,color='k')\n",
    "plt.legend(loc='upper left', fontsize=14, frameon=True, facecolor='g', framealpha = 0.4)\n",
    "\n",
    "ci2 = np.percentile(bootstrap_samples_2, [1, 99])\n",
    "print('The 99% Confidence Interval is from {} ---- {}'.format(ci2[0], ci2[1]))"
   ]
  },
  {
   "cell_type": "code",
   "execution_count": null,
   "metadata": {},
   "outputs": [
    {
     "data": {
      "text/plain": [
       "True"
      ]
     },
     "execution_count": 7,
     "metadata": {},
     "output_type": "execute_result"
    }
   ],
   "source": [
    "(np.array(bootstrap_samples_2) > 0).all()"
   ]
  },
  {
   "cell_type": "markdown",
   "metadata": {},
   "source": [
    "`3.` For 10,000 iterations bootstrap your sample data, compute the difference in the average height for coffee drinkers and the average height for non-coffee drinkers for individuals under 21 years old.  Using your sampling distribution, build a 95% confidence interval.  Use your interval to start answering question 2 below."
   ]
  },
  {
   "cell_type": "code",
   "execution_count": null,
   "metadata": {},
   "outputs": [],
   "source": [
    "bt_samples = []\n",
    "for i in range(10000):\n",
    "    sample = sample_data.sample(200, replace=True)\n",
    "    under_21 = sample[sample['age'] == '<21']\n",
    "    coffee_drinker = under_21[under_21['drinks_coffee'] == True]['height'].mean()\n",
    "    non_drinker = under_21[under_21['drinks_coffee'] == False]['height'].mean()\n",
    "    bt_samples.append(coffee_drinker - non_drinker)\n"
   ]
  },
  {
   "cell_type": "code",
   "execution_count": null,
   "metadata": {},
   "outputs": [],
   "source": [
    "plt.figure(figsize=(10,8))\n",
    "plt.hist(bt_samples)\n",
    "plt.xlabel('Differences in height', fontsize=15)\n",
    "plt.title('Differences of height of coffee Drinkers and Non Drinkers\\n Under the age of 21', fontsize=15)\n",
    "plt.axvline(np.mean(bt_samples), linestyle='-.', label='Mean = {}'.format(np.mean(bt_samples).round(4)), color='k')\n",
    "plt.legend(loc='upper left', fontsize=15, frameon=True, facecolor='g', framealpha = 0.4)\n",
    "\n",
    "ci3 = np.percentile(bt_samples, [2.5, 97.5])\n",
    "print('The 95% Confidence Interval is {} ---- {}'.format(ci3[0], ci3[1])) "
   ]
  },
  {
   "cell_type": "markdown",
   "metadata": {},
   "source": [
    "`4.` For 10,000 iterations bootstrap your sample data, compute the difference in the average height for coffee drinkers and the average height for non-coffee drinkers for individuals under 21 years old.  Using your sampling distribution, build a 95% confidence interval. Use your interval to finish answering the second quiz question below. As well as the following questions. "
   ]
  },
  {
   "cell_type": "code",
   "execution_count": null,
   "metadata": {},
   "outputs": [],
   "source": [
    "bt_samples_1 = []\n",
    "for i in range(10000):\n",
    "    sample = sample_data.sample(200, replace=True)\n",
    "    over_21 = sample[sample['age'] != '<21']\n",
    "    coffee_drinker = over_21[over_21['drinks_coffee'] == True]['height'].mean()\n",
    "    non_drinker = over_21[over_21['drinks_coffee'] == False]['height'].mean()\n",
    "    bt_samples_1.append(coffee_drinker - non_drinker)\n"
   ]
  },
  {
   "cell_type": "code",
   "execution_count": null,
   "metadata": {},
   "outputs": [],
   "source": [
    "len(bt_samples_1)"
   ]
  },
  {
   "cell_type": "code",
   "execution_count": null,
   "metadata": {},
   "outputs": [],
   "source": [
    "plt.figure(figsize=(10,8))\n",
    "plt.hist(bt_samples_1)\n",
    "plt.xlabel('Differences in height', fontsize=15)\n",
    "plt.title('Differences of height of coffee Drinkers and Non Drinkers\\n Over the age of 21', fontsize=15);\n",
    "plt.axvline(np.mean(bt_samples_1), linestyle='-.', label='Mean = {}'.format(np.mean(bt_samples_1).round(4)), color='k')\n",
    "plt.legend(loc='upper left', fontsize=15, frameon=True, facecolor='g', framealpha = 0.4)\n",
    "\n",
    "ci4 = np.percentile(bt_samples_1, [2.5, 97.5])\n",
    "print('The 95% Confidence Interval is {} ---- {}'.format(ci4[0], ci4[1]))"
   ]
  },
  {
   "cell_type": "code",
   "execution_count": null,
   "metadata": {},
   "outputs": [],
   "source": []
  },
  {
   "cell_type": "code",
   "execution_count": null,
   "metadata": {},
   "outputs": [],
   "source": []
  }
 ],
 "metadata": {
  "kernelspec": {
   "display_name": "Python 3",
   "language": "python",
   "name": "python3"
  },
  "language_info": {
   "codemirror_mode": {
    "name": "ipython",
    "version": 3
   },
   "file_extension": ".py",
   "mimetype": "text/x-python",
   "name": "python",
   "nbconvert_exporter": "python",
   "pygments_lexer": "ipython3",
   "version": "3.6.4"
  }
 },
 "nbformat": 4,
 "nbformat_minor": 2
}
